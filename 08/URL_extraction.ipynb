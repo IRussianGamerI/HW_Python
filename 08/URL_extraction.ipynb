{
 "nbformat": 4,
 "nbformat_minor": 0,
 "metadata": {
  "colab": {
   "provenance": []
  },
  "kernelspec": {
   "name": "python3",
   "display_name": "Python 3"
  },
  "language_info": {
   "name": "python"
  }
 },
 "cells": [
  {
   "cell_type": "code",
   "execution_count": 3,
   "metadata": {
    "colab": {
     "base_uri": "https://localhost:8080/"
    },
    "id": "E0uTFFPoprgt",
    "outputId": "476eafd3-bd41-4728-9ca3-32dfbc8bc049"
   },
   "outputs": [
    {
     "name": "stdout",
     "output_type": "stream",
     "text": [
      "Requirement already satisfied: opendatasets in /home/levus/HW_Python/venv/lib/python3.10/site-packages (0.1.22)\r\n",
      "Requirement already satisfied: kaggle in /home/levus/HW_Python/venv/lib/python3.10/site-packages (from opendatasets) (1.5.12)\r\n",
      "Requirement already satisfied: tqdm in /home/levus/HW_Python/venv/lib/python3.10/site-packages (from opendatasets) (4.64.1)\r\n",
      "Requirement already satisfied: click in /home/levus/HW_Python/venv/lib/python3.10/site-packages (from opendatasets) (8.1.3)\r\n",
      "Requirement already satisfied: requests in /home/levus/HW_Python/venv/lib/python3.10/site-packages (from kaggle->opendatasets) (2.28.1)\r\n",
      "Requirement already satisfied: python-dateutil in /home/levus/HW_Python/venv/lib/python3.10/site-packages (from kaggle->opendatasets) (2.8.2)\r\n",
      "Requirement already satisfied: certifi in /home/levus/HW_Python/venv/lib/python3.10/site-packages (from kaggle->opendatasets) (2022.9.24)\r\n",
      "Requirement already satisfied: six>=1.10 in /home/levus/HW_Python/venv/lib/python3.10/site-packages (from kaggle->opendatasets) (1.16.0)\r\n",
      "Requirement already satisfied: python-slugify in /home/levus/HW_Python/venv/lib/python3.10/site-packages (from kaggle->opendatasets) (6.1.2)\r\n",
      "Requirement already satisfied: urllib3 in /home/levus/HW_Python/venv/lib/python3.10/site-packages (from kaggle->opendatasets) (1.26.12)\r\n",
      "Requirement already satisfied: text-unidecode>=1.3 in /home/levus/HW_Python/venv/lib/python3.10/site-packages (from python-slugify->kaggle->opendatasets) (1.3)\r\n",
      "Requirement already satisfied: idna<4,>=2.5 in /home/levus/HW_Python/venv/lib/python3.10/site-packages (from requests->kaggle->opendatasets) (3.4)\r\n",
      "Requirement already satisfied: charset-normalizer<3,>=2 in /home/levus/HW_Python/venv/lib/python3.10/site-packages (from requests->kaggle->opendatasets) (2.1.1)\r\n",
      "\u001B[33mWARNING: You are using pip version 21.3.1; however, version 22.3.1 is available.\r\n",
      "You should consider upgrading via the '/home/levus/HW_Python/venv/bin/python -m pip install --upgrade pip' command.\u001B[0m\r\n",
      "Collecting pandas\r\n",
      "  Using cached pandas-1.5.1-cp310-cp310-manylinux_2_17_x86_64.manylinux2014_x86_64.whl (12.1 MB)\r\n",
      "Collecting numpy>=1.21.0\r\n",
      "  Using cached numpy-1.23.4-cp310-cp310-manylinux_2_17_x86_64.manylinux2014_x86_64.whl (17.1 MB)\r\n",
      "Requirement already satisfied: python-dateutil>=2.8.1 in /home/levus/HW_Python/venv/lib/python3.10/site-packages (from pandas) (2.8.2)\r\n",
      "Collecting pytz>=2020.1\r\n",
      "  Using cached pytz-2022.6-py2.py3-none-any.whl (498 kB)\r\n",
      "Requirement already satisfied: six>=1.5 in /home/levus/HW_Python/venv/lib/python3.10/site-packages (from python-dateutil>=2.8.1->pandas) (1.16.0)\r\n",
      "Installing collected packages: pytz, numpy, pandas\r\n",
      "Successfully installed numpy-1.23.4 pandas-1.5.1 pytz-2022.6\r\n",
      "\u001B[33mWARNING: You are using pip version 21.3.1; however, version 22.3.1 is available.\r\n",
      "You should consider upgrading via the '/home/levus/HW_Python/venv/bin/python -m pip install --upgrade pip' command.\u001B[0m\r\n"
     ]
    }
   ],
   "source": [
    "!pip install opendatasets\n",
    "!pip install pandas"
   ]
  },
  {
   "cell_type": "code",
   "source": [
    "import pandas as pd\n",
    "import opendatasets as od"
   ],
   "metadata": {
    "id": "u928_GLrp5pi"
   },
   "execution_count": 4,
   "outputs": []
  },
  {
   "cell_type": "code",
   "source": [
    "od.download(\"https://www.kaggle.com/datasets/shaurov/website-classification-using-url\")"
   ],
   "metadata": {
    "colab": {
     "base_uri": "https://localhost:8080/"
    },
    "id": "lDel8sT3qPyc",
    "outputId": "ac655853-5202-4dea-dba4-090ae0c871d7"
   },
   "execution_count": 5,
   "outputs": [
    {
     "name": "stdout",
     "output_type": "stream",
     "text": [
      "Please provide your Kaggle credentials to download this dataset. Learn more: http://bit.ly/kaggle-creds\n",
      "Your Kaggle username:Your Kaggle Key:Downloading website-classification-using-url.zip to ./website-classification-using-url\n"
     ]
    },
    {
     "name": "stderr",
     "output_type": "stream",
     "text": [
      "100%|██████████| 18.6M/18.6M [00:16<00:00, 1.22MB/s]\n"
     ]
    },
    {
     "name": "stdout",
     "output_type": "stream",
     "text": [
      "\n"
     ]
    }
   ]
  },
  {
   "cell_type": "code",
   "source": [
    "ds = pd.read_csv(\"website-classification-using-url/URL Classification.csv\", names=[\"url\", \"category\"])"
   ],
   "metadata": {
    "id": "L0JUNriJqjpL"
   },
   "execution_count": 6,
   "outputs": []
  },
  {
   "cell_type": "code",
   "source": [
    "import requests\n",
    "from tqdm import tqdm"
   ],
   "metadata": {
    "id": "nY-32mSFuKz5"
   },
   "execution_count": 7,
   "outputs": []
  },
  {
   "cell_type": "code",
   "source": [
    "ds[ds.category==\"Computers\"]"
   ],
   "metadata": {
    "colab": {
     "base_uri": "https://localhost:8080/",
     "height": 424
    },
    "id": "nrP2WEN3ucHC",
    "outputId": "66508b54-3875-47b1-98f1-63c139763a6c"
   },
   "execution_count": 8,
   "outputs": [
    {
     "data": {
      "text/plain": "                                                      url   category\n529343                http://www.cs.sunysb.edu/~algorith/  Computers\n529344      http://www.eli.sdsu.edu/courses/fall95/cs660/  Computers\n529345                       http://www.jea.acm.org/cats/  Computers\n529346     http://www.cs.pitt.edu/~kirk/algorithmcourses/  Computers\n529347                           http://www.hlcmklam.com/  Computers\n...                                                   ...        ...\n647300                     http://www.pelicancrossing.com  Computers\n647301                       http://www.cyber-anatomy.com  Computers\n647302                           http://www.virtools.com/  Computers\n647303                            http://www.flatland.net  Computers\n647304  http://msdn.microsoft.com/en-us/xna/aa937781.aspx  Computers\n\n[117962 rows x 2 columns]",
      "text/html": "<div>\n<style scoped>\n    .dataframe tbody tr th:only-of-type {\n        vertical-align: middle;\n    }\n\n    .dataframe tbody tr th {\n        vertical-align: top;\n    }\n\n    .dataframe thead th {\n        text-align: right;\n    }\n</style>\n<table border=\"1\" class=\"dataframe\">\n  <thead>\n    <tr style=\"text-align: right;\">\n      <th></th>\n      <th>url</th>\n      <th>category</th>\n    </tr>\n  </thead>\n  <tbody>\n    <tr>\n      <th>529343</th>\n      <td>http://www.cs.sunysb.edu/~algorith/</td>\n      <td>Computers</td>\n    </tr>\n    <tr>\n      <th>529344</th>\n      <td>http://www.eli.sdsu.edu/courses/fall95/cs660/</td>\n      <td>Computers</td>\n    </tr>\n    <tr>\n      <th>529345</th>\n      <td>http://www.jea.acm.org/cats/</td>\n      <td>Computers</td>\n    </tr>\n    <tr>\n      <th>529346</th>\n      <td>http://www.cs.pitt.edu/~kirk/algorithmcourses/</td>\n      <td>Computers</td>\n    </tr>\n    <tr>\n      <th>529347</th>\n      <td>http://www.hlcmklam.com/</td>\n      <td>Computers</td>\n    </tr>\n    <tr>\n      <th>...</th>\n      <td>...</td>\n      <td>...</td>\n    </tr>\n    <tr>\n      <th>647300</th>\n      <td>http://www.pelicancrossing.com</td>\n      <td>Computers</td>\n    </tr>\n    <tr>\n      <th>647301</th>\n      <td>http://www.cyber-anatomy.com</td>\n      <td>Computers</td>\n    </tr>\n    <tr>\n      <th>647302</th>\n      <td>http://www.virtools.com/</td>\n      <td>Computers</td>\n    </tr>\n    <tr>\n      <th>647303</th>\n      <td>http://www.flatland.net</td>\n      <td>Computers</td>\n    </tr>\n    <tr>\n      <th>647304</th>\n      <td>http://msdn.microsoft.com/en-us/xna/aa937781.aspx</td>\n      <td>Computers</td>\n    </tr>\n  </tbody>\n</table>\n<p>117962 rows × 2 columns</p>\n</div>"
     },
     "execution_count": 8,
     "metadata": {},
     "output_type": "execute_result"
    }
   ]
  },
  {
   "cell_type": "code",
   "source": [
    "urls = ds[ds.category==\"Computers\"][:1500].url"
   ],
   "metadata": {
    "id": "HLnMNwJ6rflg"
   },
   "execution_count": 9,
   "outputs": []
  },
  {
   "cell_type": "code",
   "source": [
    "with open(\"urls.txt\", \"wt\") as f:\n",
    "    cnt = 0\n",
    "    for url in tqdm(urls):\n",
    "        try:\n",
    "            req = requests.get(url, timeout=3)\n",
    "        except Exception as err:\n",
    "            pass\n",
    "        else:\n",
    "            print(url, file=f)\n",
    "            cnt += 1\n",
    "            if cnt == 500:\n",
    "                break"
   ],
   "metadata": {
    "colab": {
     "base_uri": "https://localhost:8080/",
     "height": 645
    },
    "id": "WMzV9WV4s-E4",
    "outputId": "f4bdc261-5922-4793-d396-b23a9338df00"
   },
   "execution_count": null,
   "outputs": [
    {
     "name": "stderr",
     "output_type": "stream",
     "text": [
      " 10%|█         | 153/1500 [05:01<1:17:14,  3.44s/it]2022-11-11 12:54:09,741 WARNING Certificate did not match expected hostname: naomi.is.s.u-tokyo.ac.jp. Certificate: {'subject': ((('countryName', 'JP'),), (('stateOrProvinceName', 'Tokyo'),), (('localityName', 'Bunkyo-ku'),), (('organizationName', 'The University of Tokyo'),), (('commonName', 'www-imai.is.s.u-tokyo.ac.jp'),)), 'issuer': ((('countryName', 'JP'),), (('organizationName', 'SECOM Trust Systems CO.,LTD.'),), (('commonName', 'NII Open Domain CA - G7 RSA'),)), 'version': 3, 'serialNumber': '31D035B62FC905C925796A1DBDCA3317', 'notBefore': 'May  6 08:08:14 2022 GMT', 'notAfter': 'Jun  6 08:08:14 2023 GMT', 'subjectAltName': (('DNS', 'www-imai.is.s.u-tokyo.ac.jp'),), 'OCSP': ('http://niig7rsa.ocsp.secom-cert.jp',), 'caIssuers': ('http://repo1.secomtrust.net/sppca/nii/odca4/nii-odca4g7rsa.cer',), 'crlDistributionPoints': ('http://repo1.secomtrust.net/sppca/nii/odca4/fullcrlg7rsa.crl',)}\n",
      " 17%|█▋        | 255/1500 [08:03<20:05,  1.03it/s]  2022-11-11 12:57:08,645 WARNING Certificate did not match expected hostname: www-cs-staff.stanford.edu. Certificate: {'subject': ((('countryName', 'US'),), (('stateOrProvinceName', 'California'),), (('organizationName', 'Stanford University'),), (('organizationalUnitName', 'IT Services'),), (('commonName', 'cs.stanford.edu'),)), 'issuer': ((('countryName', 'US'),), (('stateOrProvinceName', 'MI'),), (('localityName', 'Ann Arbor'),), (('organizationName', 'Internet2'),), (('organizationalUnitName', 'InCommon'),), (('commonName', 'InCommon RSA Server CA'),)), 'version': 3, 'serialNumber': '492497C48F5C083F263B409378A52936', 'notBefore': 'Mar  7 00:00:00 2022 GMT', 'notAfter': 'Mar  7 23:59:59 2023 GMT', 'subjectAltName': (('DNS', 'cs.stanford.edu'), ('DNS', 'cf.stanford.edu'), ('DNS', 'csdcf.stanford.edu'), ('DNS', 'csmajor.stanford.edu'), ('DNS', 'curis.stanford.edu'), ('DNS', 'cvgl.stanford.edu'), ('DNS', 'cw1.stanford.edu'), ('DNS', 'cw2.stanford.edu'), ('DNS', 'cw3.stanford.edu'), ('DNS', 'cw4.stanford.edu'), ('DNS', 'ldap.cs.stanford.edu'), ('DNS', 'support.cs.stanford.edu'), ('DNS', 'www-cs-faculty.stanford.edu'), ('DNS', 'www-cs.stanford.edu'), ('DNS', 'www-formal.stanford.edu'), ('DNS', 'www.cs.stanford.edu'), ('DNS', 'www1.cs.stanford.edu'), ('DNS', 'www2.cs.stanford.edu'), ('DNS', 'www3.cs.stanford.edu'), ('DNS', 'www4.cs.stanford.edu')), 'OCSP': ('http://ocsp.usertrust.com',), 'caIssuers': ('http://crt.usertrust.com/InCommonRSAServerCA_2.crt',), 'crlDistributionPoints': ('http://crl.incommon-rsa.org/InCommonRSAServerCA.crl',)}\n",
      " 27%|██▋       | 405/1500 [12:34<20:43,  1.14s/it]  2022-11-11 13:01:40,092 WARNING Certificate did not match expected hostname: agents.umbc.edu. Certificate: {'subject': ((('countryName', 'US'),), (('stateOrProvinceName', 'California'),), (('localityName', 'San Francisco'),), (('organizationName', 'Pantheon Systems Inc.'),), (('commonName', 'pantheonsite.io'),)), 'issuer': ((('countryName', 'GB'),), (('stateOrProvinceName', 'Greater Manchester'),), (('localityName', 'Salford'),), (('organizationName', 'Sectigo Limited'),), (('commonName', 'Sectigo RSA Organization Validation Secure Server CA'),)), 'version': 3, 'serialNumber': 'EAE32056FECC19F35E867623E7BC35C3', 'notBefore': 'Jul 14 00:00:00 2022 GMT', 'notAfter': 'Jun 23 23:59:59 2023 GMT', 'subjectAltName': (('DNS', 'pantheonsite.io'), ('DNS', '*.getpantheon.com'), ('DNS', '*.gotpantheon.com'), ('DNS', '*.pantheon.io'), ('DNS', '*.pantheonsite.io'), ('DNS', 'getpantheon.com'), ('DNS', 'gotpantheon.com')), 'OCSP': ('http://ocsp.sectigo.com',), 'caIssuers': ('http://crt.sectigo.com/SectigoRSAOrganizationValidationSecureServerCA.crt',), 'crlDistributionPoints': ('http://crl.sectigo.com/SectigoRSAOrganizationValidationSecureServerCA.crl',)}\n",
      " 28%|██▊       | 427/1500 [13:03<25:22,  1.42s/it]2022-11-11 13:02:07,999 WARNING Certificate did not match expected hostname: agents.umbc.edu. Certificate: {'subject': ((('countryName', 'US'),), (('stateOrProvinceName', 'California'),), (('localityName', 'San Francisco'),), (('organizationName', 'Pantheon Systems Inc.'),), (('commonName', 'pantheonsite.io'),)), 'issuer': ((('countryName', 'GB'),), (('stateOrProvinceName', 'Greater Manchester'),), (('localityName', 'Salford'),), (('organizationName', 'Sectigo Limited'),), (('commonName', 'Sectigo RSA Organization Validation Secure Server CA'),)), 'version': 3, 'serialNumber': 'EAE32056FECC19F35E867623E7BC35C3', 'notBefore': 'Jul 14 00:00:00 2022 GMT', 'notAfter': 'Jun 23 23:59:59 2023 GMT', 'subjectAltName': (('DNS', 'pantheonsite.io'), ('DNS', '*.getpantheon.com'), ('DNS', '*.gotpantheon.com'), ('DNS', '*.pantheon.io'), ('DNS', '*.pantheonsite.io'), ('DNS', 'getpantheon.com'), ('DNS', 'gotpantheon.com')), 'OCSP': ('http://ocsp.sectigo.com',), 'caIssuers': ('http://crt.sectigo.com/SectigoRSAOrganizationValidationSecureServerCA.crt',), 'crlDistributionPoints': ('http://crl.sectigo.com/SectigoRSAOrganizationValidationSecureServerCA.crl',)}\n",
      " 40%|████      | 603/1500 [17:56<23:30,  1.57s/it]  2022-11-11 13:07:01,503 WARNING Certificate did not match expected hostname: anc.ed.ac.uk. Certificate: {'subject': ((('commonName', 'pbf2013.inf.ed.ac.uk'),),), 'issuer': ((('countryName', 'US'),), (('organizationName', \"Let's Encrypt\"),), (('commonName', 'R3'),)), 'version': 3, 'serialNumber': '04B270C74AB4AEDD62FA0318E7FF4C997BEE', 'notBefore': 'Oct 22 22:58:21 2022 GMT', 'notAfter': 'Jan 20 22:58:20 2023 GMT', 'subjectAltName': (('DNS', 'pbf2013.inf.ed.ac.uk'),), 'OCSP': ('http://r3.o.lencr.org',), 'caIssuers': ('http://r3.i.lencr.org/',)}\n",
      " 56%|█████▌    | 842/1500 [26:42<20:52,  1.90s/it]  \n"
     ]
    },
    {
     "ename": "KeyboardInterrupt",
     "evalue": "",
     "output_type": "error",
     "traceback": [
      "\u001B[0;31m---------------------------------------------------------------------------\u001B[0m",
      "\u001B[0;31mKeyboardInterrupt\u001B[0m                         Traceback (most recent call last)",
      "Cell \u001B[0;32mIn [10], line 5\u001B[0m\n\u001B[1;32m      3\u001B[0m \u001B[38;5;28;01mfor\u001B[39;00m url \u001B[38;5;129;01min\u001B[39;00m tqdm(urls):\n\u001B[1;32m      4\u001B[0m     \u001B[38;5;28;01mtry\u001B[39;00m:\n\u001B[0;32m----> 5\u001B[0m         req \u001B[38;5;241m=\u001B[39m \u001B[43mrequests\u001B[49m\u001B[38;5;241;43m.\u001B[39;49m\u001B[43mget\u001B[49m\u001B[43m(\u001B[49m\u001B[43murl\u001B[49m\u001B[43m,\u001B[49m\u001B[43m \u001B[49m\u001B[43mtimeout\u001B[49m\u001B[38;5;241;43m=\u001B[39;49m\u001B[38;5;241;43m3\u001B[39;49m\u001B[43m)\u001B[49m\n\u001B[1;32m      6\u001B[0m     \u001B[38;5;28;01mexcept\u001B[39;00m \u001B[38;5;167;01mException\u001B[39;00m \u001B[38;5;28;01mas\u001B[39;00m err:\n\u001B[1;32m      7\u001B[0m         \u001B[38;5;28;01mpass\u001B[39;00m\n",
      "File \u001B[0;32m~/HW_Python/venv/lib/python3.10/site-packages/requests/api.py:73\u001B[0m, in \u001B[0;36mget\u001B[0;34m(url, params, **kwargs)\u001B[0m\n\u001B[1;32m     62\u001B[0m \u001B[38;5;28;01mdef\u001B[39;00m \u001B[38;5;21mget\u001B[39m(url, params\u001B[38;5;241m=\u001B[39m\u001B[38;5;28;01mNone\u001B[39;00m, \u001B[38;5;241m*\u001B[39m\u001B[38;5;241m*\u001B[39mkwargs):\n\u001B[1;32m     63\u001B[0m     \u001B[38;5;124mr\u001B[39m\u001B[38;5;124;03m\"\"\"Sends a GET request.\u001B[39;00m\n\u001B[1;32m     64\u001B[0m \n\u001B[1;32m     65\u001B[0m \u001B[38;5;124;03m    :param url: URL for the new :class:`Request` object.\u001B[39;00m\n\u001B[0;32m   (...)\u001B[0m\n\u001B[1;32m     70\u001B[0m \u001B[38;5;124;03m    :rtype: requests.Response\u001B[39;00m\n\u001B[1;32m     71\u001B[0m \u001B[38;5;124;03m    \"\"\"\u001B[39;00m\n\u001B[0;32m---> 73\u001B[0m     \u001B[38;5;28;01mreturn\u001B[39;00m \u001B[43mrequest\u001B[49m\u001B[43m(\u001B[49m\u001B[38;5;124;43m\"\u001B[39;49m\u001B[38;5;124;43mget\u001B[39;49m\u001B[38;5;124;43m\"\u001B[39;49m\u001B[43m,\u001B[49m\u001B[43m \u001B[49m\u001B[43murl\u001B[49m\u001B[43m,\u001B[49m\u001B[43m \u001B[49m\u001B[43mparams\u001B[49m\u001B[38;5;241;43m=\u001B[39;49m\u001B[43mparams\u001B[49m\u001B[43m,\u001B[49m\u001B[43m \u001B[49m\u001B[38;5;241;43m*\u001B[39;49m\u001B[38;5;241;43m*\u001B[39;49m\u001B[43mkwargs\u001B[49m\u001B[43m)\u001B[49m\n",
      "File \u001B[0;32m~/HW_Python/venv/lib/python3.10/site-packages/requests/api.py:59\u001B[0m, in \u001B[0;36mrequest\u001B[0;34m(method, url, **kwargs)\u001B[0m\n\u001B[1;32m     55\u001B[0m \u001B[38;5;66;03m# By using the 'with' statement we are sure the session is closed, thus we\u001B[39;00m\n\u001B[1;32m     56\u001B[0m \u001B[38;5;66;03m# avoid leaving sockets open which can trigger a ResourceWarning in some\u001B[39;00m\n\u001B[1;32m     57\u001B[0m \u001B[38;5;66;03m# cases, and look like a memory leak in others.\u001B[39;00m\n\u001B[1;32m     58\u001B[0m \u001B[38;5;28;01mwith\u001B[39;00m sessions\u001B[38;5;241m.\u001B[39mSession() \u001B[38;5;28;01mas\u001B[39;00m session:\n\u001B[0;32m---> 59\u001B[0m     \u001B[38;5;28;01mreturn\u001B[39;00m \u001B[43msession\u001B[49m\u001B[38;5;241;43m.\u001B[39;49m\u001B[43mrequest\u001B[49m\u001B[43m(\u001B[49m\u001B[43mmethod\u001B[49m\u001B[38;5;241;43m=\u001B[39;49m\u001B[43mmethod\u001B[49m\u001B[43m,\u001B[49m\u001B[43m \u001B[49m\u001B[43murl\u001B[49m\u001B[38;5;241;43m=\u001B[39;49m\u001B[43murl\u001B[49m\u001B[43m,\u001B[49m\u001B[43m \u001B[49m\u001B[38;5;241;43m*\u001B[39;49m\u001B[38;5;241;43m*\u001B[39;49m\u001B[43mkwargs\u001B[49m\u001B[43m)\u001B[49m\n",
      "File \u001B[0;32m~/HW_Python/venv/lib/python3.10/site-packages/requests/sessions.py:587\u001B[0m, in \u001B[0;36mSession.request\u001B[0;34m(self, method, url, params, data, headers, cookies, files, auth, timeout, allow_redirects, proxies, hooks, stream, verify, cert, json)\u001B[0m\n\u001B[1;32m    582\u001B[0m send_kwargs \u001B[38;5;241m=\u001B[39m {\n\u001B[1;32m    583\u001B[0m     \u001B[38;5;124m\"\u001B[39m\u001B[38;5;124mtimeout\u001B[39m\u001B[38;5;124m\"\u001B[39m: timeout,\n\u001B[1;32m    584\u001B[0m     \u001B[38;5;124m\"\u001B[39m\u001B[38;5;124mallow_redirects\u001B[39m\u001B[38;5;124m\"\u001B[39m: allow_redirects,\n\u001B[1;32m    585\u001B[0m }\n\u001B[1;32m    586\u001B[0m send_kwargs\u001B[38;5;241m.\u001B[39mupdate(settings)\n\u001B[0;32m--> 587\u001B[0m resp \u001B[38;5;241m=\u001B[39m \u001B[38;5;28;43mself\u001B[39;49m\u001B[38;5;241;43m.\u001B[39;49m\u001B[43msend\u001B[49m\u001B[43m(\u001B[49m\u001B[43mprep\u001B[49m\u001B[43m,\u001B[49m\u001B[43m \u001B[49m\u001B[38;5;241;43m*\u001B[39;49m\u001B[38;5;241;43m*\u001B[39;49m\u001B[43msend_kwargs\u001B[49m\u001B[43m)\u001B[49m\n\u001B[1;32m    589\u001B[0m \u001B[38;5;28;01mreturn\u001B[39;00m resp\n",
      "File \u001B[0;32m~/HW_Python/venv/lib/python3.10/site-packages/requests/sessions.py:723\u001B[0m, in \u001B[0;36mSession.send\u001B[0;34m(self, request, **kwargs)\u001B[0m\n\u001B[1;32m    720\u001B[0m \u001B[38;5;28;01mif\u001B[39;00m allow_redirects:\n\u001B[1;32m    721\u001B[0m     \u001B[38;5;66;03m# Redirect resolving generator.\u001B[39;00m\n\u001B[1;32m    722\u001B[0m     gen \u001B[38;5;241m=\u001B[39m \u001B[38;5;28mself\u001B[39m\u001B[38;5;241m.\u001B[39mresolve_redirects(r, request, \u001B[38;5;241m*\u001B[39m\u001B[38;5;241m*\u001B[39mkwargs)\n\u001B[0;32m--> 723\u001B[0m     history \u001B[38;5;241m=\u001B[39m [resp \u001B[38;5;28;01mfor\u001B[39;00m resp \u001B[38;5;129;01min\u001B[39;00m gen]\n\u001B[1;32m    724\u001B[0m \u001B[38;5;28;01melse\u001B[39;00m:\n\u001B[1;32m    725\u001B[0m     history \u001B[38;5;241m=\u001B[39m []\n",
      "File \u001B[0;32m~/HW_Python/venv/lib/python3.10/site-packages/requests/sessions.py:723\u001B[0m, in \u001B[0;36m<listcomp>\u001B[0;34m(.0)\u001B[0m\n\u001B[1;32m    720\u001B[0m \u001B[38;5;28;01mif\u001B[39;00m allow_redirects:\n\u001B[1;32m    721\u001B[0m     \u001B[38;5;66;03m# Redirect resolving generator.\u001B[39;00m\n\u001B[1;32m    722\u001B[0m     gen \u001B[38;5;241m=\u001B[39m \u001B[38;5;28mself\u001B[39m\u001B[38;5;241m.\u001B[39mresolve_redirects(r, request, \u001B[38;5;241m*\u001B[39m\u001B[38;5;241m*\u001B[39mkwargs)\n\u001B[0;32m--> 723\u001B[0m     history \u001B[38;5;241m=\u001B[39m [resp \u001B[38;5;28;01mfor\u001B[39;00m resp \u001B[38;5;129;01min\u001B[39;00m gen]\n\u001B[1;32m    724\u001B[0m \u001B[38;5;28;01melse\u001B[39;00m:\n\u001B[1;32m    725\u001B[0m     history \u001B[38;5;241m=\u001B[39m []\n",
      "File \u001B[0;32m~/HW_Python/venv/lib/python3.10/site-packages/requests/sessions.py:266\u001B[0m, in \u001B[0;36mSessionRedirectMixin.resolve_redirects\u001B[0;34m(self, resp, req, stream, timeout, verify, cert, proxies, yield_requests, **adapter_kwargs)\u001B[0m\n\u001B[1;32m    263\u001B[0m     \u001B[38;5;28;01myield\u001B[39;00m req\n\u001B[1;32m    264\u001B[0m \u001B[38;5;28;01melse\u001B[39;00m:\n\u001B[0;32m--> 266\u001B[0m     resp \u001B[38;5;241m=\u001B[39m \u001B[38;5;28;43mself\u001B[39;49m\u001B[38;5;241;43m.\u001B[39;49m\u001B[43msend\u001B[49m\u001B[43m(\u001B[49m\n\u001B[1;32m    267\u001B[0m \u001B[43m        \u001B[49m\u001B[43mreq\u001B[49m\u001B[43m,\u001B[49m\n\u001B[1;32m    268\u001B[0m \u001B[43m        \u001B[49m\u001B[43mstream\u001B[49m\u001B[38;5;241;43m=\u001B[39;49m\u001B[43mstream\u001B[49m\u001B[43m,\u001B[49m\n\u001B[1;32m    269\u001B[0m \u001B[43m        \u001B[49m\u001B[43mtimeout\u001B[49m\u001B[38;5;241;43m=\u001B[39;49m\u001B[43mtimeout\u001B[49m\u001B[43m,\u001B[49m\n\u001B[1;32m    270\u001B[0m \u001B[43m        \u001B[49m\u001B[43mverify\u001B[49m\u001B[38;5;241;43m=\u001B[39;49m\u001B[43mverify\u001B[49m\u001B[43m,\u001B[49m\n\u001B[1;32m    271\u001B[0m \u001B[43m        \u001B[49m\u001B[43mcert\u001B[49m\u001B[38;5;241;43m=\u001B[39;49m\u001B[43mcert\u001B[49m\u001B[43m,\u001B[49m\n\u001B[1;32m    272\u001B[0m \u001B[43m        \u001B[49m\u001B[43mproxies\u001B[49m\u001B[38;5;241;43m=\u001B[39;49m\u001B[43mproxies\u001B[49m\u001B[43m,\u001B[49m\n\u001B[1;32m    273\u001B[0m \u001B[43m        \u001B[49m\u001B[43mallow_redirects\u001B[49m\u001B[38;5;241;43m=\u001B[39;49m\u001B[38;5;28;43;01mFalse\u001B[39;49;00m\u001B[43m,\u001B[49m\n\u001B[1;32m    274\u001B[0m \u001B[43m        \u001B[49m\u001B[38;5;241;43m*\u001B[39;49m\u001B[38;5;241;43m*\u001B[39;49m\u001B[43madapter_kwargs\u001B[49m\u001B[43m,\u001B[49m\n\u001B[1;32m    275\u001B[0m \u001B[43m    \u001B[49m\u001B[43m)\u001B[49m\n\u001B[1;32m    277\u001B[0m     extract_cookies_to_jar(\u001B[38;5;28mself\u001B[39m\u001B[38;5;241m.\u001B[39mcookies, prepared_request, resp\u001B[38;5;241m.\u001B[39mraw)\n\u001B[1;32m    279\u001B[0m     \u001B[38;5;66;03m# extract redirect url, if any, for the next loop\u001B[39;00m\n",
      "File \u001B[0;32m~/HW_Python/venv/lib/python3.10/site-packages/requests/sessions.py:701\u001B[0m, in \u001B[0;36mSession.send\u001B[0;34m(self, request, **kwargs)\u001B[0m\n\u001B[1;32m    698\u001B[0m start \u001B[38;5;241m=\u001B[39m preferred_clock()\n\u001B[1;32m    700\u001B[0m \u001B[38;5;66;03m# Send the request\u001B[39;00m\n\u001B[0;32m--> 701\u001B[0m r \u001B[38;5;241m=\u001B[39m \u001B[43madapter\u001B[49m\u001B[38;5;241;43m.\u001B[39;49m\u001B[43msend\u001B[49m\u001B[43m(\u001B[49m\u001B[43mrequest\u001B[49m\u001B[43m,\u001B[49m\u001B[43m \u001B[49m\u001B[38;5;241;43m*\u001B[39;49m\u001B[38;5;241;43m*\u001B[39;49m\u001B[43mkwargs\u001B[49m\u001B[43m)\u001B[49m\n\u001B[1;32m    703\u001B[0m \u001B[38;5;66;03m# Total elapsed time of the request (approximately)\u001B[39;00m\n\u001B[1;32m    704\u001B[0m elapsed \u001B[38;5;241m=\u001B[39m preferred_clock() \u001B[38;5;241m-\u001B[39m start\n",
      "File \u001B[0;32m~/HW_Python/venv/lib/python3.10/site-packages/requests/adapters.py:489\u001B[0m, in \u001B[0;36mHTTPAdapter.send\u001B[0;34m(self, request, stream, timeout, verify, cert, proxies)\u001B[0m\n\u001B[1;32m    487\u001B[0m \u001B[38;5;28;01mtry\u001B[39;00m:\n\u001B[1;32m    488\u001B[0m     \u001B[38;5;28;01mif\u001B[39;00m \u001B[38;5;129;01mnot\u001B[39;00m chunked:\n\u001B[0;32m--> 489\u001B[0m         resp \u001B[38;5;241m=\u001B[39m \u001B[43mconn\u001B[49m\u001B[38;5;241;43m.\u001B[39;49m\u001B[43murlopen\u001B[49m\u001B[43m(\u001B[49m\n\u001B[1;32m    490\u001B[0m \u001B[43m            \u001B[49m\u001B[43mmethod\u001B[49m\u001B[38;5;241;43m=\u001B[39;49m\u001B[43mrequest\u001B[49m\u001B[38;5;241;43m.\u001B[39;49m\u001B[43mmethod\u001B[49m\u001B[43m,\u001B[49m\n\u001B[1;32m    491\u001B[0m \u001B[43m            \u001B[49m\u001B[43murl\u001B[49m\u001B[38;5;241;43m=\u001B[39;49m\u001B[43murl\u001B[49m\u001B[43m,\u001B[49m\n\u001B[1;32m    492\u001B[0m \u001B[43m            \u001B[49m\u001B[43mbody\u001B[49m\u001B[38;5;241;43m=\u001B[39;49m\u001B[43mrequest\u001B[49m\u001B[38;5;241;43m.\u001B[39;49m\u001B[43mbody\u001B[49m\u001B[43m,\u001B[49m\n\u001B[1;32m    493\u001B[0m \u001B[43m            \u001B[49m\u001B[43mheaders\u001B[49m\u001B[38;5;241;43m=\u001B[39;49m\u001B[43mrequest\u001B[49m\u001B[38;5;241;43m.\u001B[39;49m\u001B[43mheaders\u001B[49m\u001B[43m,\u001B[49m\n\u001B[1;32m    494\u001B[0m \u001B[43m            \u001B[49m\u001B[43mredirect\u001B[49m\u001B[38;5;241;43m=\u001B[39;49m\u001B[38;5;28;43;01mFalse\u001B[39;49;00m\u001B[43m,\u001B[49m\n\u001B[1;32m    495\u001B[0m \u001B[43m            \u001B[49m\u001B[43massert_same_host\u001B[49m\u001B[38;5;241;43m=\u001B[39;49m\u001B[38;5;28;43;01mFalse\u001B[39;49;00m\u001B[43m,\u001B[49m\n\u001B[1;32m    496\u001B[0m \u001B[43m            \u001B[49m\u001B[43mpreload_content\u001B[49m\u001B[38;5;241;43m=\u001B[39;49m\u001B[38;5;28;43;01mFalse\u001B[39;49;00m\u001B[43m,\u001B[49m\n\u001B[1;32m    497\u001B[0m \u001B[43m            \u001B[49m\u001B[43mdecode_content\u001B[49m\u001B[38;5;241;43m=\u001B[39;49m\u001B[38;5;28;43;01mFalse\u001B[39;49;00m\u001B[43m,\u001B[49m\n\u001B[1;32m    498\u001B[0m \u001B[43m            \u001B[49m\u001B[43mretries\u001B[49m\u001B[38;5;241;43m=\u001B[39;49m\u001B[38;5;28;43mself\u001B[39;49m\u001B[38;5;241;43m.\u001B[39;49m\u001B[43mmax_retries\u001B[49m\u001B[43m,\u001B[49m\n\u001B[1;32m    499\u001B[0m \u001B[43m            \u001B[49m\u001B[43mtimeout\u001B[49m\u001B[38;5;241;43m=\u001B[39;49m\u001B[43mtimeout\u001B[49m\u001B[43m,\u001B[49m\n\u001B[1;32m    500\u001B[0m \u001B[43m        \u001B[49m\u001B[43m)\u001B[49m\n\u001B[1;32m    502\u001B[0m     \u001B[38;5;66;03m# Send the request.\u001B[39;00m\n\u001B[1;32m    503\u001B[0m     \u001B[38;5;28;01melse\u001B[39;00m:\n\u001B[1;32m    504\u001B[0m         \u001B[38;5;28;01mif\u001B[39;00m \u001B[38;5;28mhasattr\u001B[39m(conn, \u001B[38;5;124m\"\u001B[39m\u001B[38;5;124mproxy_pool\u001B[39m\u001B[38;5;124m\"\u001B[39m):\n",
      "File \u001B[0;32m~/HW_Python/venv/lib/python3.10/site-packages/urllib3/connectionpool.py:703\u001B[0m, in \u001B[0;36mHTTPConnectionPool.urlopen\u001B[0;34m(self, method, url, body, headers, retries, redirect, assert_same_host, timeout, pool_timeout, release_conn, chunked, body_pos, **response_kw)\u001B[0m\n\u001B[1;32m    700\u001B[0m     \u001B[38;5;28mself\u001B[39m\u001B[38;5;241m.\u001B[39m_prepare_proxy(conn)\n\u001B[1;32m    702\u001B[0m \u001B[38;5;66;03m# Make the request on the httplib connection object.\u001B[39;00m\n\u001B[0;32m--> 703\u001B[0m httplib_response \u001B[38;5;241m=\u001B[39m \u001B[38;5;28;43mself\u001B[39;49m\u001B[38;5;241;43m.\u001B[39;49m\u001B[43m_make_request\u001B[49m\u001B[43m(\u001B[49m\n\u001B[1;32m    704\u001B[0m \u001B[43m    \u001B[49m\u001B[43mconn\u001B[49m\u001B[43m,\u001B[49m\n\u001B[1;32m    705\u001B[0m \u001B[43m    \u001B[49m\u001B[43mmethod\u001B[49m\u001B[43m,\u001B[49m\n\u001B[1;32m    706\u001B[0m \u001B[43m    \u001B[49m\u001B[43murl\u001B[49m\u001B[43m,\u001B[49m\n\u001B[1;32m    707\u001B[0m \u001B[43m    \u001B[49m\u001B[43mtimeout\u001B[49m\u001B[38;5;241;43m=\u001B[39;49m\u001B[43mtimeout_obj\u001B[49m\u001B[43m,\u001B[49m\n\u001B[1;32m    708\u001B[0m \u001B[43m    \u001B[49m\u001B[43mbody\u001B[49m\u001B[38;5;241;43m=\u001B[39;49m\u001B[43mbody\u001B[49m\u001B[43m,\u001B[49m\n\u001B[1;32m    709\u001B[0m \u001B[43m    \u001B[49m\u001B[43mheaders\u001B[49m\u001B[38;5;241;43m=\u001B[39;49m\u001B[43mheaders\u001B[49m\u001B[43m,\u001B[49m\n\u001B[1;32m    710\u001B[0m \u001B[43m    \u001B[49m\u001B[43mchunked\u001B[49m\u001B[38;5;241;43m=\u001B[39;49m\u001B[43mchunked\u001B[49m\u001B[43m,\u001B[49m\n\u001B[1;32m    711\u001B[0m \u001B[43m\u001B[49m\u001B[43m)\u001B[49m\n\u001B[1;32m    713\u001B[0m \u001B[38;5;66;03m# If we're going to release the connection in ``finally:``, then\u001B[39;00m\n\u001B[1;32m    714\u001B[0m \u001B[38;5;66;03m# the response doesn't need to know about the connection. Otherwise\u001B[39;00m\n\u001B[1;32m    715\u001B[0m \u001B[38;5;66;03m# it will also try to release it and we'll have a double-release\u001B[39;00m\n\u001B[1;32m    716\u001B[0m \u001B[38;5;66;03m# mess.\u001B[39;00m\n\u001B[1;32m    717\u001B[0m response_conn \u001B[38;5;241m=\u001B[39m conn \u001B[38;5;28;01mif\u001B[39;00m \u001B[38;5;129;01mnot\u001B[39;00m release_conn \u001B[38;5;28;01melse\u001B[39;00m \u001B[38;5;28;01mNone\u001B[39;00m\n",
      "File \u001B[0;32m~/HW_Python/venv/lib/python3.10/site-packages/urllib3/connectionpool.py:386\u001B[0m, in \u001B[0;36mHTTPConnectionPool._make_request\u001B[0;34m(self, conn, method, url, timeout, chunked, **httplib_request_kw)\u001B[0m\n\u001B[1;32m    384\u001B[0m \u001B[38;5;66;03m# Trigger any extra validation we need to do.\u001B[39;00m\n\u001B[1;32m    385\u001B[0m \u001B[38;5;28;01mtry\u001B[39;00m:\n\u001B[0;32m--> 386\u001B[0m     \u001B[38;5;28;43mself\u001B[39;49m\u001B[38;5;241;43m.\u001B[39;49m\u001B[43m_validate_conn\u001B[49m\u001B[43m(\u001B[49m\u001B[43mconn\u001B[49m\u001B[43m)\u001B[49m\n\u001B[1;32m    387\u001B[0m \u001B[38;5;28;01mexcept\u001B[39;00m (SocketTimeout, BaseSSLError) \u001B[38;5;28;01mas\u001B[39;00m e:\n\u001B[1;32m    388\u001B[0m     \u001B[38;5;66;03m# Py2 raises this as a BaseSSLError, Py3 raises it as socket timeout.\u001B[39;00m\n\u001B[1;32m    389\u001B[0m     \u001B[38;5;28mself\u001B[39m\u001B[38;5;241m.\u001B[39m_raise_timeout(err\u001B[38;5;241m=\u001B[39me, url\u001B[38;5;241m=\u001B[39murl, timeout_value\u001B[38;5;241m=\u001B[39mconn\u001B[38;5;241m.\u001B[39mtimeout)\n",
      "File \u001B[0;32m~/HW_Python/venv/lib/python3.10/site-packages/urllib3/connectionpool.py:1042\u001B[0m, in \u001B[0;36mHTTPSConnectionPool._validate_conn\u001B[0;34m(self, conn)\u001B[0m\n\u001B[1;32m   1040\u001B[0m \u001B[38;5;66;03m# Force connect early to allow us to validate the connection.\u001B[39;00m\n\u001B[1;32m   1041\u001B[0m \u001B[38;5;28;01mif\u001B[39;00m \u001B[38;5;129;01mnot\u001B[39;00m \u001B[38;5;28mgetattr\u001B[39m(conn, \u001B[38;5;124m\"\u001B[39m\u001B[38;5;124msock\u001B[39m\u001B[38;5;124m\"\u001B[39m, \u001B[38;5;28;01mNone\u001B[39;00m):  \u001B[38;5;66;03m# AppEngine might not have  `.sock`\u001B[39;00m\n\u001B[0;32m-> 1042\u001B[0m     \u001B[43mconn\u001B[49m\u001B[38;5;241;43m.\u001B[39;49m\u001B[43mconnect\u001B[49m\u001B[43m(\u001B[49m\u001B[43m)\u001B[49m\n\u001B[1;32m   1044\u001B[0m \u001B[38;5;28;01mif\u001B[39;00m \u001B[38;5;129;01mnot\u001B[39;00m conn\u001B[38;5;241m.\u001B[39mis_verified:\n\u001B[1;32m   1045\u001B[0m     warnings\u001B[38;5;241m.\u001B[39mwarn(\n\u001B[1;32m   1046\u001B[0m         (\n\u001B[1;32m   1047\u001B[0m             \u001B[38;5;124m\"\u001B[39m\u001B[38;5;124mUnverified HTTPS request is being made to host \u001B[39m\u001B[38;5;124m'\u001B[39m\u001B[38;5;132;01m%s\u001B[39;00m\u001B[38;5;124m'\u001B[39m\u001B[38;5;124m. \u001B[39m\u001B[38;5;124m\"\u001B[39m\n\u001B[0;32m   (...)\u001B[0m\n\u001B[1;32m   1052\u001B[0m         InsecureRequestWarning,\n\u001B[1;32m   1053\u001B[0m     )\n",
      "File \u001B[0;32m~/HW_Python/venv/lib/python3.10/site-packages/urllib3/connection.py:414\u001B[0m, in \u001B[0;36mHTTPSConnection.connect\u001B[0;34m(self)\u001B[0m\n\u001B[1;32m    405\u001B[0m \u001B[38;5;28;01mif\u001B[39;00m (\n\u001B[1;32m    406\u001B[0m     \u001B[38;5;129;01mnot\u001B[39;00m \u001B[38;5;28mself\u001B[39m\u001B[38;5;241m.\u001B[39mca_certs\n\u001B[1;32m    407\u001B[0m     \u001B[38;5;129;01mand\u001B[39;00m \u001B[38;5;129;01mnot\u001B[39;00m \u001B[38;5;28mself\u001B[39m\u001B[38;5;241m.\u001B[39mca_cert_dir\n\u001B[0;32m   (...)\u001B[0m\n\u001B[1;32m    410\u001B[0m     \u001B[38;5;129;01mand\u001B[39;00m \u001B[38;5;28mhasattr\u001B[39m(context, \u001B[38;5;124m\"\u001B[39m\u001B[38;5;124mload_default_certs\u001B[39m\u001B[38;5;124m\"\u001B[39m)\n\u001B[1;32m    411\u001B[0m ):\n\u001B[1;32m    412\u001B[0m     context\u001B[38;5;241m.\u001B[39mload_default_certs()\n\u001B[0;32m--> 414\u001B[0m \u001B[38;5;28mself\u001B[39m\u001B[38;5;241m.\u001B[39msock \u001B[38;5;241m=\u001B[39m \u001B[43mssl_wrap_socket\u001B[49m\u001B[43m(\u001B[49m\n\u001B[1;32m    415\u001B[0m \u001B[43m    \u001B[49m\u001B[43msock\u001B[49m\u001B[38;5;241;43m=\u001B[39;49m\u001B[43mconn\u001B[49m\u001B[43m,\u001B[49m\n\u001B[1;32m    416\u001B[0m \u001B[43m    \u001B[49m\u001B[43mkeyfile\u001B[49m\u001B[38;5;241;43m=\u001B[39;49m\u001B[38;5;28;43mself\u001B[39;49m\u001B[38;5;241;43m.\u001B[39;49m\u001B[43mkey_file\u001B[49m\u001B[43m,\u001B[49m\n\u001B[1;32m    417\u001B[0m \u001B[43m    \u001B[49m\u001B[43mcertfile\u001B[49m\u001B[38;5;241;43m=\u001B[39;49m\u001B[38;5;28;43mself\u001B[39;49m\u001B[38;5;241;43m.\u001B[39;49m\u001B[43mcert_file\u001B[49m\u001B[43m,\u001B[49m\n\u001B[1;32m    418\u001B[0m \u001B[43m    \u001B[49m\u001B[43mkey_password\u001B[49m\u001B[38;5;241;43m=\u001B[39;49m\u001B[38;5;28;43mself\u001B[39;49m\u001B[38;5;241;43m.\u001B[39;49m\u001B[43mkey_password\u001B[49m\u001B[43m,\u001B[49m\n\u001B[1;32m    419\u001B[0m \u001B[43m    \u001B[49m\u001B[43mca_certs\u001B[49m\u001B[38;5;241;43m=\u001B[39;49m\u001B[38;5;28;43mself\u001B[39;49m\u001B[38;5;241;43m.\u001B[39;49m\u001B[43mca_certs\u001B[49m\u001B[43m,\u001B[49m\n\u001B[1;32m    420\u001B[0m \u001B[43m    \u001B[49m\u001B[43mca_cert_dir\u001B[49m\u001B[38;5;241;43m=\u001B[39;49m\u001B[38;5;28;43mself\u001B[39;49m\u001B[38;5;241;43m.\u001B[39;49m\u001B[43mca_cert_dir\u001B[49m\u001B[43m,\u001B[49m\n\u001B[1;32m    421\u001B[0m \u001B[43m    \u001B[49m\u001B[43mca_cert_data\u001B[49m\u001B[38;5;241;43m=\u001B[39;49m\u001B[38;5;28;43mself\u001B[39;49m\u001B[38;5;241;43m.\u001B[39;49m\u001B[43mca_cert_data\u001B[49m\u001B[43m,\u001B[49m\n\u001B[1;32m    422\u001B[0m \u001B[43m    \u001B[49m\u001B[43mserver_hostname\u001B[49m\u001B[38;5;241;43m=\u001B[39;49m\u001B[43mserver_hostname\u001B[49m\u001B[43m,\u001B[49m\n\u001B[1;32m    423\u001B[0m \u001B[43m    \u001B[49m\u001B[43mssl_context\u001B[49m\u001B[38;5;241;43m=\u001B[39;49m\u001B[43mcontext\u001B[49m\u001B[43m,\u001B[49m\n\u001B[1;32m    424\u001B[0m \u001B[43m    \u001B[49m\u001B[43mtls_in_tls\u001B[49m\u001B[38;5;241;43m=\u001B[39;49m\u001B[43mtls_in_tls\u001B[49m\u001B[43m,\u001B[49m\n\u001B[1;32m    425\u001B[0m \u001B[43m\u001B[49m\u001B[43m)\u001B[49m\n\u001B[1;32m    427\u001B[0m \u001B[38;5;66;03m# If we're using all defaults and the connection\u001B[39;00m\n\u001B[1;32m    428\u001B[0m \u001B[38;5;66;03m# is TLSv1 or TLSv1.1 we throw a DeprecationWarning\u001B[39;00m\n\u001B[1;32m    429\u001B[0m \u001B[38;5;66;03m# for the host.\u001B[39;00m\n\u001B[1;32m    430\u001B[0m \u001B[38;5;28;01mif\u001B[39;00m (\n\u001B[1;32m    431\u001B[0m     default_ssl_context\n\u001B[1;32m    432\u001B[0m     \u001B[38;5;129;01mand\u001B[39;00m \u001B[38;5;28mself\u001B[39m\u001B[38;5;241m.\u001B[39mssl_version \u001B[38;5;129;01mis\u001B[39;00m \u001B[38;5;28;01mNone\u001B[39;00m\n\u001B[1;32m    433\u001B[0m     \u001B[38;5;129;01mand\u001B[39;00m \u001B[38;5;28mhasattr\u001B[39m(\u001B[38;5;28mself\u001B[39m\u001B[38;5;241m.\u001B[39msock, \u001B[38;5;124m\"\u001B[39m\u001B[38;5;124mversion\u001B[39m\u001B[38;5;124m\"\u001B[39m)\n\u001B[1;32m    434\u001B[0m     \u001B[38;5;129;01mand\u001B[39;00m \u001B[38;5;28mself\u001B[39m\u001B[38;5;241m.\u001B[39msock\u001B[38;5;241m.\u001B[39mversion() \u001B[38;5;129;01min\u001B[39;00m {\u001B[38;5;124m\"\u001B[39m\u001B[38;5;124mTLSv1\u001B[39m\u001B[38;5;124m\"\u001B[39m, \u001B[38;5;124m\"\u001B[39m\u001B[38;5;124mTLSv1.1\u001B[39m\u001B[38;5;124m\"\u001B[39m}\n\u001B[1;32m    435\u001B[0m ):\n",
      "File \u001B[0;32m~/HW_Python/venv/lib/python3.10/site-packages/urllib3/util/ssl_.py:449\u001B[0m, in \u001B[0;36mssl_wrap_socket\u001B[0;34m(sock, keyfile, certfile, cert_reqs, ca_certs, server_hostname, ssl_version, ciphers, ssl_context, ca_cert_dir, key_password, ca_cert_data, tls_in_tls)\u001B[0m\n\u001B[1;32m    437\u001B[0m     warnings\u001B[38;5;241m.\u001B[39mwarn(\n\u001B[1;32m    438\u001B[0m         \u001B[38;5;124m\"\u001B[39m\u001B[38;5;124mAn HTTPS request has been made, but the SNI (Server Name \u001B[39m\u001B[38;5;124m\"\u001B[39m\n\u001B[1;32m    439\u001B[0m         \u001B[38;5;124m\"\u001B[39m\u001B[38;5;124mIndication) extension to TLS is not available on this platform. \u001B[39m\u001B[38;5;124m\"\u001B[39m\n\u001B[0;32m   (...)\u001B[0m\n\u001B[1;32m    445\u001B[0m         SNIMissingWarning,\n\u001B[1;32m    446\u001B[0m     )\n\u001B[1;32m    448\u001B[0m \u001B[38;5;28;01mif\u001B[39;00m send_sni:\n\u001B[0;32m--> 449\u001B[0m     ssl_sock \u001B[38;5;241m=\u001B[39m \u001B[43m_ssl_wrap_socket_impl\u001B[49m\u001B[43m(\u001B[49m\n\u001B[1;32m    450\u001B[0m \u001B[43m        \u001B[49m\u001B[43msock\u001B[49m\u001B[43m,\u001B[49m\u001B[43m \u001B[49m\u001B[43mcontext\u001B[49m\u001B[43m,\u001B[49m\u001B[43m \u001B[49m\u001B[43mtls_in_tls\u001B[49m\u001B[43m,\u001B[49m\u001B[43m \u001B[49m\u001B[43mserver_hostname\u001B[49m\u001B[38;5;241;43m=\u001B[39;49m\u001B[43mserver_hostname\u001B[49m\n\u001B[1;32m    451\u001B[0m \u001B[43m    \u001B[49m\u001B[43m)\u001B[49m\n\u001B[1;32m    452\u001B[0m \u001B[38;5;28;01melse\u001B[39;00m:\n\u001B[1;32m    453\u001B[0m     ssl_sock \u001B[38;5;241m=\u001B[39m _ssl_wrap_socket_impl(sock, context, tls_in_tls)\n",
      "File \u001B[0;32m~/HW_Python/venv/lib/python3.10/site-packages/urllib3/util/ssl_.py:493\u001B[0m, in \u001B[0;36m_ssl_wrap_socket_impl\u001B[0;34m(sock, ssl_context, tls_in_tls, server_hostname)\u001B[0m\n\u001B[1;32m    490\u001B[0m     \u001B[38;5;28;01mreturn\u001B[39;00m SSLTransport(sock, ssl_context, server_hostname)\n\u001B[1;32m    492\u001B[0m \u001B[38;5;28;01mif\u001B[39;00m server_hostname:\n\u001B[0;32m--> 493\u001B[0m     \u001B[38;5;28;01mreturn\u001B[39;00m \u001B[43mssl_context\u001B[49m\u001B[38;5;241;43m.\u001B[39;49m\u001B[43mwrap_socket\u001B[49m\u001B[43m(\u001B[49m\u001B[43msock\u001B[49m\u001B[43m,\u001B[49m\u001B[43m \u001B[49m\u001B[43mserver_hostname\u001B[49m\u001B[38;5;241;43m=\u001B[39;49m\u001B[43mserver_hostname\u001B[49m\u001B[43m)\u001B[49m\n\u001B[1;32m    494\u001B[0m \u001B[38;5;28;01melse\u001B[39;00m:\n\u001B[1;32m    495\u001B[0m     \u001B[38;5;28;01mreturn\u001B[39;00m ssl_context\u001B[38;5;241m.\u001B[39mwrap_socket(sock)\n",
      "File \u001B[0;32m/usr/lib/python3.10/ssl.py:513\u001B[0m, in \u001B[0;36mSSLContext.wrap_socket\u001B[0;34m(self, sock, server_side, do_handshake_on_connect, suppress_ragged_eofs, server_hostname, session)\u001B[0m\n\u001B[1;32m    507\u001B[0m \u001B[38;5;28;01mdef\u001B[39;00m \u001B[38;5;21mwrap_socket\u001B[39m(\u001B[38;5;28mself\u001B[39m, sock, server_side\u001B[38;5;241m=\u001B[39m\u001B[38;5;28;01mFalse\u001B[39;00m,\n\u001B[1;32m    508\u001B[0m                 do_handshake_on_connect\u001B[38;5;241m=\u001B[39m\u001B[38;5;28;01mTrue\u001B[39;00m,\n\u001B[1;32m    509\u001B[0m                 suppress_ragged_eofs\u001B[38;5;241m=\u001B[39m\u001B[38;5;28;01mTrue\u001B[39;00m,\n\u001B[1;32m    510\u001B[0m                 server_hostname\u001B[38;5;241m=\u001B[39m\u001B[38;5;28;01mNone\u001B[39;00m, session\u001B[38;5;241m=\u001B[39m\u001B[38;5;28;01mNone\u001B[39;00m):\n\u001B[1;32m    511\u001B[0m     \u001B[38;5;66;03m# SSLSocket class handles server_hostname encoding before it calls\u001B[39;00m\n\u001B[1;32m    512\u001B[0m     \u001B[38;5;66;03m# ctx._wrap_socket()\u001B[39;00m\n\u001B[0;32m--> 513\u001B[0m     \u001B[38;5;28;01mreturn\u001B[39;00m \u001B[38;5;28;43mself\u001B[39;49m\u001B[38;5;241;43m.\u001B[39;49m\u001B[43msslsocket_class\u001B[49m\u001B[38;5;241;43m.\u001B[39;49m\u001B[43m_create\u001B[49m\u001B[43m(\u001B[49m\n\u001B[1;32m    514\u001B[0m \u001B[43m        \u001B[49m\u001B[43msock\u001B[49m\u001B[38;5;241;43m=\u001B[39;49m\u001B[43msock\u001B[49m\u001B[43m,\u001B[49m\n\u001B[1;32m    515\u001B[0m \u001B[43m        \u001B[49m\u001B[43mserver_side\u001B[49m\u001B[38;5;241;43m=\u001B[39;49m\u001B[43mserver_side\u001B[49m\u001B[43m,\u001B[49m\n\u001B[1;32m    516\u001B[0m \u001B[43m        \u001B[49m\u001B[43mdo_handshake_on_connect\u001B[49m\u001B[38;5;241;43m=\u001B[39;49m\u001B[43mdo_handshake_on_connect\u001B[49m\u001B[43m,\u001B[49m\n\u001B[1;32m    517\u001B[0m \u001B[43m        \u001B[49m\u001B[43msuppress_ragged_eofs\u001B[49m\u001B[38;5;241;43m=\u001B[39;49m\u001B[43msuppress_ragged_eofs\u001B[49m\u001B[43m,\u001B[49m\n\u001B[1;32m    518\u001B[0m \u001B[43m        \u001B[49m\u001B[43mserver_hostname\u001B[49m\u001B[38;5;241;43m=\u001B[39;49m\u001B[43mserver_hostname\u001B[49m\u001B[43m,\u001B[49m\n\u001B[1;32m    519\u001B[0m \u001B[43m        \u001B[49m\u001B[43mcontext\u001B[49m\u001B[38;5;241;43m=\u001B[39;49m\u001B[38;5;28;43mself\u001B[39;49m\u001B[43m,\u001B[49m\n\u001B[1;32m    520\u001B[0m \u001B[43m        \u001B[49m\u001B[43msession\u001B[49m\u001B[38;5;241;43m=\u001B[39;49m\u001B[43msession\u001B[49m\n\u001B[1;32m    521\u001B[0m \u001B[43m    \u001B[49m\u001B[43m)\u001B[49m\n",
      "File \u001B[0;32m/usr/lib/python3.10/ssl.py:1071\u001B[0m, in \u001B[0;36mSSLSocket._create\u001B[0;34m(cls, sock, server_side, do_handshake_on_connect, suppress_ragged_eofs, server_hostname, context, session)\u001B[0m\n\u001B[1;32m   1068\u001B[0m         \u001B[38;5;28;01mif\u001B[39;00m timeout \u001B[38;5;241m==\u001B[39m \u001B[38;5;241m0.0\u001B[39m:\n\u001B[1;32m   1069\u001B[0m             \u001B[38;5;66;03m# non-blocking\u001B[39;00m\n\u001B[1;32m   1070\u001B[0m             \u001B[38;5;28;01mraise\u001B[39;00m \u001B[38;5;167;01mValueError\u001B[39;00m(\u001B[38;5;124m\"\u001B[39m\u001B[38;5;124mdo_handshake_on_connect should not be specified for non-blocking sockets\u001B[39m\u001B[38;5;124m\"\u001B[39m)\n\u001B[0;32m-> 1071\u001B[0m         \u001B[38;5;28;43mself\u001B[39;49m\u001B[38;5;241;43m.\u001B[39;49m\u001B[43mdo_handshake\u001B[49m\u001B[43m(\u001B[49m\u001B[43m)\u001B[49m\n\u001B[1;32m   1072\u001B[0m \u001B[38;5;28;01mexcept\u001B[39;00m (\u001B[38;5;167;01mOSError\u001B[39;00m, \u001B[38;5;167;01mValueError\u001B[39;00m):\n\u001B[1;32m   1073\u001B[0m     \u001B[38;5;28mself\u001B[39m\u001B[38;5;241m.\u001B[39mclose()\n",
      "File \u001B[0;32m/usr/lib/python3.10/ssl.py:1342\u001B[0m, in \u001B[0;36mSSLSocket.do_handshake\u001B[0;34m(self, block)\u001B[0m\n\u001B[1;32m   1340\u001B[0m     \u001B[38;5;28;01mif\u001B[39;00m timeout \u001B[38;5;241m==\u001B[39m \u001B[38;5;241m0.0\u001B[39m \u001B[38;5;129;01mand\u001B[39;00m block:\n\u001B[1;32m   1341\u001B[0m         \u001B[38;5;28mself\u001B[39m\u001B[38;5;241m.\u001B[39msettimeout(\u001B[38;5;28;01mNone\u001B[39;00m)\n\u001B[0;32m-> 1342\u001B[0m     \u001B[38;5;28;43mself\u001B[39;49m\u001B[38;5;241;43m.\u001B[39;49m\u001B[43m_sslobj\u001B[49m\u001B[38;5;241;43m.\u001B[39;49m\u001B[43mdo_handshake\u001B[49m\u001B[43m(\u001B[49m\u001B[43m)\u001B[49m\n\u001B[1;32m   1343\u001B[0m \u001B[38;5;28;01mfinally\u001B[39;00m:\n\u001B[1;32m   1344\u001B[0m     \u001B[38;5;28mself\u001B[39m\u001B[38;5;241m.\u001B[39msettimeout(timeout)\n",
      "\u001B[0;31mKeyboardInterrupt\u001B[0m: "
     ]
    }
   ]
  },
  {
   "cell_type": "code",
   "source": [],
   "metadata": {
    "id": "VCR5OkSKCXnK"
   },
   "execution_count": null,
   "outputs": []
  }
 ]
}
